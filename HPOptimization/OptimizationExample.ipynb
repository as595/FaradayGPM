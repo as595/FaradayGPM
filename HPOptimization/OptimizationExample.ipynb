{
 "cells": [
  {
   "cell_type": "code",
   "execution_count": 1,
   "metadata": {
    "collapsed": true
   },
   "outputs": [],
   "source": [
    "# this embeds plots in the notebook\n",
    "%matplotlib inline  "
   ]
  },
  {
   "cell_type": "code",
   "execution_count": 2,
   "metadata": {
    "collapsed": true
   },
   "outputs": [],
   "source": [
    "import numpy as np  # for arrays\n",
    "import pylab as pl  # for plotting"
   ]
  },
  {
   "cell_type": "code",
   "execution_count": 3,
   "metadata": {
    "collapsed": true
   },
   "outputs": [],
   "source": [
    "import george\n",
    "from george import kernels"
   ]
  },
  {
   "cell_type": "code",
   "execution_count": 4,
   "metadata": {
    "collapsed": true
   },
   "outputs": [],
   "source": [
    "indata = np.loadtxt(\"faraday_thin.txt\")"
   ]
  },
  {
   "cell_type": "code",
   "execution_count": 5,
   "metadata": {},
   "outputs": [],
   "source": [
    "nu = indata[0,:]\n",
    "P_rg = indata[1,:]+1j*indata[2,:]"
   ]
  },
  {
   "cell_type": "code",
   "execution_count": 6,
   "metadata": {
    "collapsed": true
   },
   "outputs": [],
   "source": [
    "lam = 3e8/nu\n",
    "lam_sq = (3e8/nu)**2"
   ]
  },
  {
   "cell_type": "code",
   "execution_count": 7,
   "metadata": {
    "collapsed": true
   },
   "outputs": [],
   "source": [
    "k1 = 1.0**2 * kernels.ExpSine2Kernel(2.0 / 1.0**2, 1.0)\n",
    "k2 = kernels.WhiteKernel(0.01)\n",
    " \n",
    "kernel = k1+k2"
   ]
  },
  {
   "cell_type": "code",
   "execution_count": 8,
   "metadata": {
    "collapsed": true
   },
   "outputs": [],
   "source": [
    "# first we feed our combined kernel to the George library:\n",
    "gp = george.GP(kernel, mean=0.0)\n",
    " \n",
    "# then we compute the covariance matrix:\n",
    "gp.compute(lam_sq)"
   ]
  },
  {
   "cell_type": "code",
   "execution_count": 9,
   "metadata": {
    "collapsed": true
   },
   "outputs": [],
   "source": [
    "def nll(p):\n",
    " \n",
    "    # Update the kernel parameters:\n",
    "    gp.kernel[:] = p\n",
    " \n",
    "    #  Compute the loglikelihood:\n",
    "    ll_q = gp.lnlikelihood(P_rg.real, quiet=True)\n",
    "    ll_u = gp.lnlikelihood(P_rg.imag, quiet=True)\n",
    "    ll = ll_q + ll_u\n",
    "    \n",
    "    # The scipy optimizer doesn’t play well with infinities:\n",
    "    return -ll if np.isfinite(ll) else 1e25"
   ]
  },
  {
   "cell_type": "code",
   "execution_count": 10,
   "metadata": {
    "collapsed": true
   },
   "outputs": [],
   "source": [
    "def grad_nll(p):\n",
    "    \n",
    "    # Update the kernel parameters:\n",
    "    gp.kernel[:] = p\n",
    " \n",
    "    #  Compute the gradient of the loglikelihood:\n",
    "    gll_q = gp.grad_lnlikelihood(P_rg.real, quiet=True)\n",
    "    gll_u = gp.grad_lnlikelihood(P_rg.imag, quiet=True)\n",
    "    gll = gll_q + gll_u\n",
    " \n",
    "    return -gll"
   ]
  },
  {
   "cell_type": "code",
   "execution_count": 17,
   "metadata": {
    "collapsed": true
   },
   "outputs": [],
   "source": [
    "import scipy.optimize as op\n",
    " \n",
    "# extract our initial guess at parameters\n",
    "# from the george kernel and put it in a\n",
    "# vector:\n",
    "p0 = gp.kernel.vector\n",
    " \n",
    "# set prior ranges\n",
    "# Note that these are in *logarithmic* space\n",
    "bnds = ((-1.,2.),(-1.,2.),(-1.,1.),(-20.,-10.))\n",
    " \n",
    "# run optimization:\n",
    "results = op.minimize(nll, p0, method='L-BFGS-B', jac=grad_nll,bounds=bnds)"
   ]
  },
  {
   "cell_type": "code",
   "execution_count": 18,
   "metadata": {
    "collapsed": true
   },
   "outputs": [],
   "source": [
    "# pass the parameters to the george kernel:\n",
    "gp.kernel[:] = results.x"
   ]
  },
  {
   "cell_type": "code",
   "execution_count": 19,
   "metadata": {},
   "outputs": [
    {
     "name": "stderr",
     "output_type": "stream",
     "text": [
      "/opt/local/Library/Frameworks/Python.framework/Versions/2.7/lib/python2.7/site-packages/ipykernel/__main__.py:5: RuntimeWarning: invalid value encountered in sqrt\n",
      "/opt/local/Library/Frameworks/Python.framework/Versions/2.7/lib/python2.7/site-packages/ipykernel/__main__.py:9: RuntimeWarning: invalid value encountered in sqrt\n"
     ]
    }
   ],
   "source": [
    "t = np.arange(np.min(lam_sq),np.max(lam_sq),0.004)\n",
    "\n",
    "# calculate expectation and variance at each point:\n",
    "mu1, cov1 = gp.predict(P_rg.real, t)\n",
    "std1 = np.sqrt(np.diag(cov1))\n",
    "\n",
    "# calculate expectation and variance at each point:\n",
    "mu2, cov2 = gp.predict(P_rg.imag, t)\n",
    "std2 = np.sqrt(np.diag(cov2))"
   ]
  },
  {
   "cell_type": "code",
   "execution_count": 20,
   "metadata": {},
   "outputs": [
    {
     "data": {
      "image/png": "[encoded data removed]",
      "text/plain": [
       "<matplotlib.figure.Figure at 0x110f2c410>"
      ]
     },
     "metadata": {},
     "output_type": "display_data"
    }
   ],
   "source": [
    "ax = pl.subplot(111)\n",
    "pl.plot(t,mu1)\n",
    "pl.plot(t,mu2)\n",
    "ax.fill_between(t,mu1-std1,mu1+std1,facecolor='lightblue', lw=0, interpolate=True)\n",
    "ax.fill_between(t,mu2-std2,mu2+std2,facecolor='lightblue', lw=0, interpolate=True)\n",
    "pl.scatter(lam_sq,P_rg.real,s=3)\n",
    "pl.scatter(lam_sq,P_rg.imag,s=3)\n",
    "pl.axis([0,1,-1.2,1.2])\n",
    "pl.show()"
   ]
  },
  {
   "cell_type": "code",
   "execution_count": 21,
   "metadata": {},
   "outputs": [
    {
     "name": "stdout",
     "output_type": "stream",
     "text": [
      "[  2.71828185e+00   1.84603746e+00   9.42455350e-01   4.88375563e-07]\n"
     ]
    }
   ],
   "source": [
    "print np.exp(results.x)"
   ]
  },
  {
   "cell_type": "code",
   "execution_count": 22,
   "metadata": {},
   "outputs": [
    {
     "name": "stdout",
     "output_type": "stream",
     "text": [
      "[  1.00000001   0.61304143  -0.05926673 -14.53218113]\n"
     ]
    }
   ],
   "source": [
    "print results.x"
   ]
  },
  {
   "cell_type": "code",
   "execution_count": null,
   "metadata": {
    "collapsed": true
   },
   "outputs": [],
   "source": []
  }
 ],
 "metadata": {
  "kernelspec": {
   "display_name": "Python 2",
   "language": "python",
   "name": "python2"
  },
  "language_info": {
   "codemirror_mode": {
    "name": "ipython",
    "version": 2
   },
   "file_extension": ".py",
   "mimetype": "text/x-python",
   "name": "python",
   "nbconvert_exporter": "python",
   "pygments_lexer": "ipython2",
   "version": "2.7.13"
  }
 },
 "nbformat": 4,
 "nbformat_minor": 2
}
